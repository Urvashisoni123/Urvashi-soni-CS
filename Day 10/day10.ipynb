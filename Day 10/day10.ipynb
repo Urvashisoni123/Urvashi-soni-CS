{
 "cells": [
  {
   "cell_type": "code",
   "execution_count": 5,
   "id": "52129108-59ea-4031-9f23-d4f85a26a28d",
   "metadata": {},
   "outputs": [],
   "source": [
    "import pandas as pd"
   ]
  },
  {
   "cell_type": "code",
   "execution_count": 6,
   "id": "e6dde35c-ea6e-4241-a6a7-0ea4569e0ea3",
   "metadata": {},
   "outputs": [],
   "source": [
    "movies=pd.read_csv(r'Book1.csv')"
   ]
  },
  {
   "cell_type": "code",
   "execution_count": 7,
   "id": "7d6b507f-6400-4e69-8574-ad6fbb00cacd",
   "metadata": {},
   "outputs": [
    {
     "data": {
      "text/html": [
       "<div>\n",
       "<style scoped>\n",
       "    .dataframe tbody tr th:only-of-type {\n",
       "        vertical-align: middle;\n",
       "    }\n",
       "\n",
       "    .dataframe tbody tr th {\n",
       "        vertical-align: top;\n",
       "    }\n",
       "\n",
       "    .dataframe thead th {\n",
       "        text-align: right;\n",
       "    }\n",
       "</style>\n",
       "<table border=\"1\" class=\"dataframe\">\n",
       "  <thead>\n",
       "    <tr style=\"text-align: right;\">\n",
       "      <th></th>\n",
       "      <th>ID</th>\n",
       "      <th>NAME</th>\n",
       "      <th>INDUSTRY</th>\n",
       "      <th>GENRE</th>\n",
       "      <th>LANGUAGE</th>\n",
       "      <th>RATING</th>\n",
       "      <th>DURATION</th>\n",
       "      <th>Unnamed: 7</th>\n",
       "    </tr>\n",
       "  </thead>\n",
       "  <tbody>\n",
       "    <tr>\n",
       "      <th>0</th>\n",
       "      <td>1</td>\n",
       "      <td>Bahubali</td>\n",
       "      <td>Tollywood</td>\n",
       "      <td>Action</td>\n",
       "      <td>Telugu</td>\n",
       "      <td>9.5</td>\n",
       "      <td>170</td>\n",
       "      <td>NaN</td>\n",
       "    </tr>\n",
       "    <tr>\n",
       "      <th>1</th>\n",
       "      <td>2</td>\n",
       "      <td>Brahmastra</td>\n",
       "      <td>Bollywood</td>\n",
       "      <td>Mystereous</td>\n",
       "      <td>Hindi</td>\n",
       "      <td>5.0</td>\n",
       "      <td>180</td>\n",
       "      <td>NaN</td>\n",
       "    </tr>\n",
       "    <tr>\n",
       "      <th>2</th>\n",
       "      <td>3</td>\n",
       "      <td>Uri</td>\n",
       "      <td>Bollywood</td>\n",
       "      <td>Action</td>\n",
       "      <td>Hindi</td>\n",
       "      <td>10.0</td>\n",
       "      <td>120</td>\n",
       "      <td>NaN</td>\n",
       "    </tr>\n",
       "    <tr>\n",
       "      <th>3</th>\n",
       "      <td>4</td>\n",
       "      <td>DDLJ</td>\n",
       "      <td>Bollywood</td>\n",
       "      <td>Romantic</td>\n",
       "      <td>Hindi</td>\n",
       "      <td>10.0</td>\n",
       "      <td>150</td>\n",
       "      <td>NaN</td>\n",
       "    </tr>\n",
       "    <tr>\n",
       "      <th>4</th>\n",
       "      <td>5</td>\n",
       "      <td>Avengers</td>\n",
       "      <td>Hollywood</td>\n",
       "      <td>Action</td>\n",
       "      <td>English</td>\n",
       "      <td>9.0</td>\n",
       "      <td>180</td>\n",
       "      <td>NaN</td>\n",
       "    </tr>\n",
       "    <tr>\n",
       "      <th>5</th>\n",
       "      <td>6</td>\n",
       "      <td>Tenet</td>\n",
       "      <td>Hollywood</td>\n",
       "      <td>Scifi</td>\n",
       "      <td>English</td>\n",
       "      <td>6.5</td>\n",
       "      <td>150</td>\n",
       "      <td>NaN</td>\n",
       "    </tr>\n",
       "    <tr>\n",
       "      <th>6</th>\n",
       "      <td>7</td>\n",
       "      <td>Major</td>\n",
       "      <td>Bollywood</td>\n",
       "      <td>Action</td>\n",
       "      <td>English</td>\n",
       "      <td>7.0</td>\n",
       "      <td>190</td>\n",
       "      <td>NaN</td>\n",
       "    </tr>\n",
       "    <tr>\n",
       "      <th>7</th>\n",
       "      <td>8</td>\n",
       "      <td>Interstaller</td>\n",
       "      <td>Hollywood</td>\n",
       "      <td>Scifi</td>\n",
       "      <td>English</td>\n",
       "      <td>7.0</td>\n",
       "      <td>190</td>\n",
       "      <td>NaN</td>\n",
       "    </tr>\n",
       "    <tr>\n",
       "      <th>8</th>\n",
       "      <td>9</td>\n",
       "      <td>Gravity</td>\n",
       "      <td>Hollywood</td>\n",
       "      <td>Scifi</td>\n",
       "      <td>English</td>\n",
       "      <td>6.0</td>\n",
       "      <td>130</td>\n",
       "      <td>NaN</td>\n",
       "    </tr>\n",
       "    <tr>\n",
       "      <th>9</th>\n",
       "      <td>10</td>\n",
       "      <td>Titanic</td>\n",
       "      <td>Hollywood</td>\n",
       "      <td>Drama</td>\n",
       "      <td>English</td>\n",
       "      <td>9.0</td>\n",
       "      <td>150</td>\n",
       "      <td>NaN</td>\n",
       "    </tr>\n",
       "    <tr>\n",
       "      <th>10</th>\n",
       "      <td>11</td>\n",
       "      <td>Sabrina</td>\n",
       "      <td>Hollywood</td>\n",
       "      <td>Horror</td>\n",
       "      <td>English</td>\n",
       "      <td>5.0</td>\n",
       "      <td>170</td>\n",
       "      <td>NaN</td>\n",
       "    </tr>\n",
       "    <tr>\n",
       "      <th>11</th>\n",
       "      <td>12</td>\n",
       "      <td>HouseFull</td>\n",
       "      <td>Bollywood</td>\n",
       "      <td>Comedy</td>\n",
       "      <td>Hindi</td>\n",
       "      <td>9.0</td>\n",
       "      <td>150</td>\n",
       "      <td>NaN</td>\n",
       "    </tr>\n",
       "    <tr>\n",
       "      <th>12</th>\n",
       "      <td>13</td>\n",
       "      <td>The Dictator</td>\n",
       "      <td>Hollywood</td>\n",
       "      <td>Comedy</td>\n",
       "      <td>English</td>\n",
       "      <td>7.0</td>\n",
       "      <td>120</td>\n",
       "      <td>NaN</td>\n",
       "    </tr>\n",
       "    <tr>\n",
       "      <th>13</th>\n",
       "      <td>14</td>\n",
       "      <td>Hera Pheri</td>\n",
       "      <td>Bollywood</td>\n",
       "      <td>Comedy</td>\n",
       "      <td>Hindi</td>\n",
       "      <td>9.0</td>\n",
       "      <td>140</td>\n",
       "      <td>NaN</td>\n",
       "    </tr>\n",
       "    <tr>\n",
       "      <th>14</th>\n",
       "      <td>15</td>\n",
       "      <td>Sholay</td>\n",
       "      <td>Bollywood</td>\n",
       "      <td>Drama</td>\n",
       "      <td>Hindi</td>\n",
       "      <td>8.5</td>\n",
       "      <td>150</td>\n",
       "      <td>NaN</td>\n",
       "    </tr>\n",
       "  </tbody>\n",
       "</table>\n",
       "</div>"
      ],
      "text/plain": [
       "    ID          NAME   INDUSTRY       GENRE LANGUAGE  RATING  DURATION  \\\n",
       "0    1      Bahubali  Tollywood      Action   Telugu     9.5       170   \n",
       "1    2    Brahmastra  Bollywood  Mystereous    Hindi     5.0       180   \n",
       "2    3           Uri  Bollywood      Action    Hindi    10.0       120   \n",
       "3    4          DDLJ  Bollywood    Romantic    Hindi    10.0       150   \n",
       "4    5      Avengers  Hollywood      Action  English     9.0       180   \n",
       "5    6         Tenet  Hollywood       Scifi  English     6.5       150   \n",
       "6    7         Major  Bollywood      Action  English     7.0       190   \n",
       "7    8  Interstaller  Hollywood       Scifi  English     7.0       190   \n",
       "8    9       Gravity  Hollywood       Scifi  English     6.0       130   \n",
       "9   10       Titanic  Hollywood       Drama  English     9.0       150   \n",
       "10  11       Sabrina  Hollywood      Horror  English     5.0       170   \n",
       "11  12     HouseFull  Bollywood      Comedy    Hindi     9.0       150   \n",
       "12  13  The Dictator  Hollywood      Comedy  English     7.0       120   \n",
       "13  14    Hera Pheri  Bollywood      Comedy    Hindi     9.0       140   \n",
       "14  15        Sholay  Bollywood       Drama    Hindi     8.5       150   \n",
       "\n",
       "    Unnamed: 7  \n",
       "0          NaN  \n",
       "1          NaN  \n",
       "2          NaN  \n",
       "3          NaN  \n",
       "4          NaN  \n",
       "5          NaN  \n",
       "6          NaN  \n",
       "7          NaN  \n",
       "8          NaN  \n",
       "9          NaN  \n",
       "10         NaN  \n",
       "11         NaN  \n",
       "12         NaN  \n",
       "13         NaN  \n",
       "14         NaN  "
      ]
     },
     "execution_count": 7,
     "metadata": {},
     "output_type": "execute_result"
    }
   ],
   "source": [
    "movies"
   ]
  },
  {
   "cell_type": "code",
   "execution_count": 9,
   "id": "0cd41e60-d351-45d8-877a-b65375c099e7",
   "metadata": {},
   "outputs": [
    {
     "data": {
      "text/plain": [
       "6"
      ]
     },
     "execution_count": 9,
     "metadata": {},
     "output_type": "execute_result"
    }
   ],
   "source": [
    "movies['DURATION'].argmax()"
   ]
  },
  {
   "cell_type": "markdown",
   "id": "8efcb063-8f14-435f-b62f-711a105af84f",
   "metadata": {},
   "source": [
    "1. find the longest movie name"
   ]
  },
  {
   "cell_type": "code",
   "execution_count": 11,
   "id": "c295fa7a-f40f-49b7-9374-a0244dadc5e0",
   "metadata": {},
   "outputs": [
    {
     "data": {
      "text/plain": [
       "'Major'"
      ]
     },
     "execution_count": 11,
     "metadata": {},
     "output_type": "execute_result"
    }
   ],
   "source": [
    "movies['NAME'][movies['DURATION'].argmax()]"
   ]
  },
  {
   "cell_type": "markdown",
   "id": "188b5303-bcb6-4a3a-9be4-9a51d157ed2b",
   "metadata": {},
   "source": [
    "2.number of movie of 10 star rating"
   ]
  },
  {
   "cell_type": "code",
   "execution_count": 12,
   "id": "4d877357-025c-48c7-951b-c1ceffcd6a1e",
   "metadata": {},
   "outputs": [
    {
     "data": {
      "text/plain": [
       "2"
      ]
     },
     "execution_count": 12,
     "metadata": {},
     "output_type": "execute_result"
    }
   ],
   "source": [
    "sum(movies['RATING']==10)"
   ]
  },
  {
   "cell_type": "markdown",
   "id": "b0d09c75-1320-4140-b920-25776dfcf343",
   "metadata": {},
   "source": [
    "3. how many industries are there"
   ]
  },
  {
   "cell_type": "code",
   "execution_count": 13,
   "id": "c81e073e-8445-4ded-8dbb-29ff4b422888",
   "metadata": {},
   "outputs": [
    {
     "data": {
      "text/plain": [
       "3"
      ]
     },
     "execution_count": 13,
     "metadata": {},
     "output_type": "execute_result"
    }
   ],
   "source": [
    "movies['INDUSTRY'].value_counts().count()"
   ]
  },
  {
   "cell_type": "code",
   "execution_count": 14,
   "id": "e14e0316-a7de-4b39-a252-2466554d8ce2",
   "metadata": {},
   "outputs": [
    {
     "data": {
      "text/plain": [
       "3"
      ]
     },
     "execution_count": 14,
     "metadata": {},
     "output_type": "execute_result"
    }
   ],
   "source": [
    "len(movies['INDUSTRY'].value_counts())"
   ]
  },
  {
   "cell_type": "code",
   "execution_count": 16,
   "id": "d429931d-13a3-4d90-8477-9ac767ccada8",
   "metadata": {},
   "outputs": [
    {
     "data": {
      "text/plain": [
       "3"
      ]
     },
     "execution_count": 16,
     "metadata": {},
     "output_type": "execute_result"
    }
   ],
   "source": [
    "movies['INDUSTRY'].nunique()"
   ]
  },
  {
   "cell_type": "markdown",
   "id": "818f8bc3-4a1c-4210-a07c-5f86d16e139f",
   "metadata": {},
   "source": [
    "4. find least liked comedy movie"
   ]
  },
  {
   "cell_type": "code",
   "execution_count": 19,
   "id": "f6f77dc6-dae3-41dd-9f64-a129ad8fcd63",
   "metadata": {},
   "outputs": [
    {
     "data": {
      "text/html": [
       "<div>\n",
       "<style scoped>\n",
       "    .dataframe tbody tr th:only-of-type {\n",
       "        vertical-align: middle;\n",
       "    }\n",
       "\n",
       "    .dataframe tbody tr th {\n",
       "        vertical-align: top;\n",
       "    }\n",
       "\n",
       "    .dataframe thead th {\n",
       "        text-align: right;\n",
       "    }\n",
       "</style>\n",
       "<table border=\"1\" class=\"dataframe\">\n",
       "  <thead>\n",
       "    <tr style=\"text-align: right;\">\n",
       "      <th></th>\n",
       "      <th>ID</th>\n",
       "      <th>NAME</th>\n",
       "      <th>INDUSTRY</th>\n",
       "      <th>GENRE</th>\n",
       "      <th>LANGUAGE</th>\n",
       "      <th>RATING</th>\n",
       "      <th>DURATION</th>\n",
       "      <th>Unnamed: 7</th>\n",
       "    </tr>\n",
       "  </thead>\n",
       "  <tbody>\n",
       "    <tr>\n",
       "      <th>11</th>\n",
       "      <td>12</td>\n",
       "      <td>HouseFull</td>\n",
       "      <td>Bollywood</td>\n",
       "      <td>Comedy</td>\n",
       "      <td>Hindi</td>\n",
       "      <td>9.0</td>\n",
       "      <td>150</td>\n",
       "      <td>NaN</td>\n",
       "    </tr>\n",
       "    <tr>\n",
       "      <th>12</th>\n",
       "      <td>13</td>\n",
       "      <td>The Dictator</td>\n",
       "      <td>Hollywood</td>\n",
       "      <td>Comedy</td>\n",
       "      <td>English</td>\n",
       "      <td>7.0</td>\n",
       "      <td>120</td>\n",
       "      <td>NaN</td>\n",
       "    </tr>\n",
       "    <tr>\n",
       "      <th>13</th>\n",
       "      <td>14</td>\n",
       "      <td>Hera Pheri</td>\n",
       "      <td>Bollywood</td>\n",
       "      <td>Comedy</td>\n",
       "      <td>Hindi</td>\n",
       "      <td>9.0</td>\n",
       "      <td>140</td>\n",
       "      <td>NaN</td>\n",
       "    </tr>\n",
       "  </tbody>\n",
       "</table>\n",
       "</div>"
      ],
      "text/plain": [
       "    ID          NAME   INDUSTRY   GENRE LANGUAGE  RATING  DURATION  Unnamed: 7\n",
       "11  12     HouseFull  Bollywood  Comedy    Hindi     9.0       150         NaN\n",
       "12  13  The Dictator  Hollywood  Comedy  English     7.0       120         NaN\n",
       "13  14    Hera Pheri  Bollywood  Comedy    Hindi     9.0       140         NaN"
      ]
     },
     "execution_count": 19,
     "metadata": {},
     "output_type": "execute_result"
    }
   ],
   "source": [
    "movies[movies['GENRE']=='Comedy']"
   ]
  },
  {
   "cell_type": "code",
   "execution_count": 22,
   "id": "d80abc62-43b0-4ce8-bb5a-5c8813dda2bc",
   "metadata": {},
   "outputs": [
    {
     "data": {
      "text/plain": [
       "'The Dictator'"
      ]
     },
     "execution_count": 22,
     "metadata": {},
     "output_type": "execute_result"
    }
   ],
   "source": [
    "movies['NAME'][movies[movies['GENRE']=='Comedy']['RATING'].idxmin()]"
   ]
  },
  {
   "cell_type": "markdown",
   "id": "100aa462-5a44-490f-8c6b-0d06e27b7abc",
   "metadata": {},
   "source": [
    "5. longest movie name"
   ]
  },
  {
   "cell_type": "code",
   "execution_count": 24,
   "id": "257168e4-6dfe-4c74-b16f-d11b94b288d0",
   "metadata": {},
   "outputs": [
    {
     "data": {
      "text/plain": [
       "'Major'"
      ]
     },
     "execution_count": 24,
     "metadata": {},
     "output_type": "execute_result"
    }
   ],
   "source": [
    "movies['NAME'][movies[movies['LANGUAGE']=='English']['DURATION'].idxmax()]"
   ]
  },
  {
   "cell_type": "code",
   "execution_count": null,
   "id": "c0b167f4-4cbe-426f-9d8f-0ab1d694c97b",
   "metadata": {},
   "outputs": [],
   "source": []
  }
 ],
 "metadata": {
  "kernelspec": {
   "display_name": "Python 3 (ipykernel)",
   "language": "python",
   "name": "python3"
  },
  "language_info": {
   "codemirror_mode": {
    "name": "ipython",
    "version": 3
   },
   "file_extension": ".py",
   "mimetype": "text/x-python",
   "name": "python",
   "nbconvert_exporter": "python",
   "pygments_lexer": "ipython3",
   "version": "3.9.12"
  }
 },
 "nbformat": 4,
 "nbformat_minor": 5
}
